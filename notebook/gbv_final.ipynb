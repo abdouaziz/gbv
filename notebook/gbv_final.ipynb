{
  "nbformat": 4,
  "nbformat_minor": 0,
  "metadata": {
    "kernelspec": {
      "language": "python",
      "display_name": "Python 3",
      "name": "python3"
    },
    "language_info": {
      "pygments_lexer": "ipython3",
      "nbconvert_exporter": "python",
      "version": "3.6.4",
      "file_extension": ".py",
      "codemirror_mode": {
        "name": "ipython",
        "version": 3
      },
      "name": "python",
      "mimetype": "text/x-python"
    },
    "colab": {
      "name": "gbv-final.ipynb",
      "provenance": [],
      "collapsed_sections": []
    },
    "accelerator": "GPU"
  },
  "cells": [
    {
      "cell_type": "code",
      "metadata": {
        "_uuid": "8f2839f25d086af736a60e9eeb907d3b93b6e0e5",
        "_cell_guid": "b1076dfc-b9ad-4769-8c92-a6c4dae69d19",
        "execution": {
          "iopub.status.busy": "2021-11-14T19:23:50.887378Z",
          "iopub.execute_input": "2021-11-14T19:23:50.887994Z",
          "iopub.status.idle": "2021-11-14T19:23:58.887234Z",
          "shell.execute_reply.started": "2021-11-14T19:23:50.887902Z",
          "shell.execute_reply": "2021-11-14T19:23:58.886405Z"
        },
        "trusted": true,
        "id": "OjFPXYqeF3Uq"
      },
      "source": [
        "!pip install -q transformers "
      ],
      "execution_count": null,
      "outputs": []
    },
    {
      "cell_type": "code",
      "metadata": {
        "execution": {
          "iopub.status.busy": "2021-11-14T21:06:51.560489Z",
          "iopub.execute_input": "2021-11-14T21:06:51.561063Z",
          "iopub.status.idle": "2021-11-14T21:07:01.19646Z",
          "shell.execute_reply.started": "2021-11-14T21:06:51.561025Z",
          "shell.execute_reply": "2021-11-14T21:07:01.195457Z"
        },
        "trusted": true,
        "id": "IREkAgZ4F3Ux"
      },
      "source": [
        "import torch\n",
        "import torch.nn as nn \n",
        "import numpy as np\n",
        "from torch.utils.data import DataLoader , Dataset\n",
        "import pandas as pd \n",
        "from tqdm import tqdm \n",
        "from transformers import BertModel , BertTokenizer, AdamW ,  get_linear_schedule_with_warmup , set_seed\n",
        "from pylab import rcParams\n",
        "import seaborn as sns \n",
        "from tensorflow.keras.utils import to_categorical\n",
        "from sklearn.model_selection import train_test_split , KFold , StratifiedKFold\n",
        "import random \n",
        "import numpy as np"
      ],
      "execution_count": null,
      "outputs": []
    },
    {
      "cell_type": "code",
      "metadata": {
        "execution": {
          "iopub.status.busy": "2021-11-14T21:07:04.093078Z",
          "iopub.execute_input": "2021-11-14T21:07:04.09344Z",
          "iopub.status.idle": "2021-11-14T21:07:04.16036Z",
          "shell.execute_reply.started": "2021-11-14T21:07:04.093385Z",
          "shell.execute_reply": "2021-11-14T21:07:04.159507Z"
        },
        "trusted": true,
        "id": "0zTAthnKF3Uz"
      },
      "source": [
        "def seed_all(seed_value):\n",
        "    random.seed(seed_value) \n",
        "    np.random.seed(seed_value) \n",
        "    torch.manual_seed(seed_value)\n",
        "    \n",
        "    if torch.cuda.is_available(): \n",
        "        torch.cuda.manual_seed(seed_value)\n",
        "        torch.cuda.manual_seed_all(seed_value)\n",
        "        torch.backends.cudnn.deterministic = True \n",
        "        torch.backends.cudnn.benchmark = False\n",
        "\n",
        "seed =42\n",
        "seed_all(seed)"
      ],
      "execution_count": null,
      "outputs": []
    },
    {
      "cell_type": "code",
      "metadata": {
        "execution": {
          "iopub.status.busy": "2021-11-14T23:15:49.518448Z",
          "iopub.execute_input": "2021-11-14T23:15:49.518723Z",
          "iopub.status.idle": "2021-11-14T23:15:52.743653Z",
          "shell.execute_reply.started": "2021-11-14T23:15:49.518693Z",
          "shell.execute_reply": "2021-11-14T23:15:52.742869Z"
        },
        "trusted": true,
        "id": "je25mfvLF3U0"
      },
      "source": [
        "class Config:\n",
        "    NB_EPOCHS = 5\n",
        "    LR = 3e-5\n",
        "    EPS=1e-8\n",
        "    MAX_LEN = 110\n",
        "    N_SPLITS = 4\n",
        "    TRAIN_BS = 60\n",
        "    VALID_BS = 40\n",
        "    MODEL_NAME = 'bert-base-cased'\n",
        "    TRAIN_FILE = '../input/gvbclean/Mytrain.csv'\n",
        "    TEST_FILE = '../input/gvbclean/Test.csv'\n",
        "    SUB_FILE = '../input/genderbasedviolence/SampleSubmission.csv'\n",
        "    TOKENIZER = BertTokenizer.from_pretrained('bert-base-cased')"
      ],
      "execution_count": null,
      "outputs": []
    },
    {
      "cell_type": "code",
      "metadata": {
        "execution": {
          "iopub.status.busy": "2021-11-14T21:07:27.30214Z",
          "iopub.execute_input": "2021-11-14T21:07:27.302464Z",
          "iopub.status.idle": "2021-11-14T21:07:27.306635Z",
          "shell.execute_reply.started": "2021-11-14T21:07:27.302427Z",
          "shell.execute_reply": "2021-11-14T21:07:27.30587Z"
        },
        "trusted": true,
        "id": "kUrxhrHpF3U1"
      },
      "source": [
        "device = torch.device(\"cuda\" if torch.cuda.is_available() else \"cpu\")"
      ],
      "execution_count": null,
      "outputs": []
    },
    {
      "cell_type": "code",
      "metadata": {
        "execution": {
          "iopub.status.busy": "2021-11-14T21:07:28.344695Z",
          "iopub.execute_input": "2021-11-14T21:07:28.345234Z",
          "iopub.status.idle": "2021-11-14T21:07:28.348809Z",
          "shell.execute_reply.started": "2021-11-14T21:07:28.345199Z",
          "shell.execute_reply": "2021-11-14T21:07:28.348055Z"
        },
        "trusted": true,
        "id": "qFipRXBGF3U2"
      },
      "source": [
        "rcParams[\"figure.figsize\"] = 12,8"
      ],
      "execution_count": null,
      "outputs": []
    },
    {
      "cell_type": "code",
      "metadata": {
        "execution": {
          "iopub.status.busy": "2021-11-14T21:07:29.152745Z",
          "iopub.execute_input": "2021-11-14T21:07:29.153204Z",
          "iopub.status.idle": "2021-11-14T21:07:29.450769Z",
          "shell.execute_reply.started": "2021-11-14T21:07:29.153168Z",
          "shell.execute_reply": "2021-11-14T21:07:29.450044Z"
        },
        "trusted": true,
        "id": "rWvJpAIKF3U3"
      },
      "source": [
        "df =  pd.read_csv(Config.TRAIN_FILE)\n",
        "df.head()"
      ],
      "execution_count": null,
      "outputs": []
    },
    {
      "cell_type": "code",
      "metadata": {
        "execution": {
          "iopub.status.busy": "2021-11-14T21:07:30.307052Z",
          "iopub.execute_input": "2021-11-14T21:07:30.307596Z",
          "iopub.status.idle": "2021-11-14T21:07:30.591041Z",
          "shell.execute_reply.started": "2021-11-14T21:07:30.307559Z",
          "shell.execute_reply": "2021-11-14T21:07:30.590296Z"
        },
        "trusted": true,
        "id": "VwfYzm1DF3U4"
      },
      "source": [
        "sns.countplot(df.type)"
      ],
      "execution_count": null,
      "outputs": []
    },
    {
      "cell_type": "code",
      "metadata": {
        "execution": {
          "iopub.status.busy": "2021-11-14T21:07:31.44257Z",
          "iopub.execute_input": "2021-11-14T21:07:31.443238Z",
          "iopub.status.idle": "2021-11-14T21:07:31.461237Z",
          "shell.execute_reply.started": "2021-11-14T21:07:31.4432Z",
          "shell.execute_reply": "2021-11-14T21:07:31.460389Z"
        },
        "trusted": true,
        "id": "tbzaqD9AF3U5"
      },
      "source": [
        "labels_ord = ['Harmful_Traditional_practice','Physical_violence', 'economic_violence', 'emotional_violence','sexual_violence']\n",
        "df['label'] = df.type.astype('category').cat.codes\n",
        "\n",
        "Y = to_categorical(df['label'])\n",
        "\n",
        "for i in range(len(labels_ord)) :     \n",
        "     df[labels_ord[i]] = Y[:,i]"
      ],
      "execution_count": null,
      "outputs": []
    },
    {
      "cell_type": "code",
      "metadata": {
        "execution": {
          "iopub.status.busy": "2021-11-14T21:07:32.34061Z",
          "iopub.execute_input": "2021-11-14T21:07:32.341252Z",
          "iopub.status.idle": "2021-11-14T21:07:32.359839Z",
          "shell.execute_reply.started": "2021-11-14T21:07:32.341217Z",
          "shell.execute_reply": "2021-11-14T21:07:32.359146Z"
        },
        "trusted": true,
        "id": "BULIJNK2F3U7"
      },
      "source": [
        "df.head(3)"
      ],
      "execution_count": null,
      "outputs": []
    },
    {
      "cell_type": "markdown",
      "metadata": {
        "id": "rM0GtZj1F3U8"
      },
      "source": [
        "### We can count the max lenght size "
      ]
    },
    {
      "cell_type": "code",
      "metadata": {
        "execution": {
          "iopub.status.busy": "2021-11-14T21:07:36.851907Z",
          "iopub.execute_input": "2021-11-14T21:07:36.852494Z",
          "iopub.status.idle": "2021-11-14T21:07:40.063768Z",
          "shell.execute_reply.started": "2021-11-14T21:07:36.852457Z",
          "shell.execute_reply": "2021-11-14T21:07:40.063007Z"
        },
        "trusted": true,
        "id": "VBQsXMD1F3U-"
      },
      "source": [
        "tokenizer = BertTokenizer.from_pretrained(Config.MODEL_NAME)"
      ],
      "execution_count": null,
      "outputs": []
    },
    {
      "cell_type": "code",
      "metadata": {
        "execution": {
          "iopub.status.busy": "2021-11-14T21:07:40.065105Z",
          "iopub.execute_input": "2021-11-14T21:07:40.065361Z",
          "iopub.status.idle": "2021-11-14T21:08:22.537104Z",
          "shell.execute_reply.started": "2021-11-14T21:07:40.065329Z",
          "shell.execute_reply": "2021-11-14T21:08:22.53636Z"
        },
        "trusted": true,
        "id": "8YkzSh_NF3U-"
      },
      "source": [
        "token_lens = []\n",
        "\n",
        "for txt in df.tweet:\n",
        "    tokens = tokenizer.encode(txt , max_length=512)\n",
        "    token_lens.append(len(tokens)) "
      ],
      "execution_count": null,
      "outputs": []
    },
    {
      "cell_type": "code",
      "metadata": {
        "execution": {
          "iopub.status.busy": "2021-11-14T21:08:22.53868Z",
          "iopub.execute_input": "2021-11-14T21:08:22.538915Z",
          "iopub.status.idle": "2021-11-14T21:08:23.223276Z",
          "shell.execute_reply.started": "2021-11-14T21:08:22.538883Z",
          "shell.execute_reply": "2021-11-14T21:08:23.222642Z"
        },
        "trusted": true,
        "id": "Fw2mRBWZF3U_"
      },
      "source": [
        "sns.distplot(token_lens) "
      ],
      "execution_count": null,
      "outputs": []
    },
    {
      "cell_type": "code",
      "metadata": {
        "execution": {
          "iopub.status.busy": "2021-11-14T21:08:27.721987Z",
          "iopub.execute_input": "2021-11-14T21:08:27.722274Z",
          "iopub.status.idle": "2021-11-14T21:08:27.731949Z",
          "shell.execute_reply.started": "2021-11-14T21:08:27.722244Z",
          "shell.execute_reply": "2021-11-14T21:08:27.731041Z"
        },
        "trusted": true,
        "id": "7B6Jd4USF3VA"
      },
      "source": [
        "class GBVDataset(Dataset):\n",
        "    def __init__(self, tweets, targets=None, is_test=False):\n",
        "        self.tweets = tweets\n",
        "        self.targets = targets\n",
        "        self.is_test = is_test\n",
        "        self.tokenizer = Config.TOKENIZER\n",
        "        self.max_len = Config.MAX_LEN\n",
        "    \n",
        "    def __len__(self):\n",
        "        return len(self.tweets)\n",
        "    \n",
        "    def __getitem__(self, idx):\n",
        "        tweet = str(self.tweets[idx])\n",
        "        tweet = ' '.join(tweet.split())\n",
        "        global inputs\n",
        "       \n",
        "        inputs = self.tokenizer(\n",
        "                            tweet,\n",
        "                            add_special_tokens=True,\n",
        "                            max_length=self.max_len,\n",
        "                            padding=\"max_length\" ,\n",
        "                            truncation = True ,\n",
        "                            pad_to_max_length=True, \n",
        "                            )\n",
        "        \n",
        "        ids = torch.tensor(inputs['input_ids'], dtype=torch.long)\n",
        "        mask = torch.tensor(inputs['attention_mask'], dtype=torch.long)\n",
        "        token_type = torch.tensor(inputs['token_type_ids'], dtype=torch.long)\n",
        "     \n",
        "        \n",
        "   \n",
        "        if self.is_test:\n",
        "            return {\n",
        "                'ids': ids,\n",
        "                'mask': mask,\n",
        "                'token_type':token_type\n",
        "               \n",
        "            }\n",
        "        else:    \n",
        "            targets = torch.tensor(self.targets[idx], dtype=torch.long)\n",
        "            return {\n",
        "                'ids': ids,\n",
        "                'mask': mask,\n",
        "                'token_type':token_type,\n",
        "                'targets': targets\n",
        "            }"
      ],
      "execution_count": null,
      "outputs": []
    },
    {
      "cell_type": "code",
      "metadata": {
        "execution": {
          "iopub.status.busy": "2021-11-14T21:08:27.987562Z",
          "iopub.execute_input": "2021-11-14T21:08:27.989592Z",
          "iopub.status.idle": "2021-11-14T21:08:27.99498Z",
          "shell.execute_reply.started": "2021-11-14T21:08:27.989554Z",
          "shell.execute_reply": "2021-11-14T21:08:27.994246Z"
        },
        "trusted": true,
        "id": "yjt1V1UkF3VC"
      },
      "source": [
        "def GBVDataloader(df  , batch_size , is_test=False):\n",
        "    dataset = GBVDataset(df[\"tweet\"].values , df[\"label\"].values  , is_test)\n",
        "    dataloader = DataLoader(dataset , batch_size , shuffle=False)\n",
        "    return dataloader"
      ],
      "execution_count": null,
      "outputs": []
    },
    {
      "cell_type": "code",
      "metadata": {
        "execution": {
          "iopub.status.busy": "2021-11-14T21:08:28.710145Z",
          "iopub.execute_input": "2021-11-14T21:08:28.71099Z",
          "iopub.status.idle": "2021-11-14T21:08:28.715494Z",
          "shell.execute_reply.started": "2021-11-14T21:08:28.710948Z",
          "shell.execute_reply": "2021-11-14T21:08:28.714486Z"
        },
        "trusted": true,
        "id": "7y1HEywIF3VD"
      },
      "source": [
        "dataloader = GBVDataloader(df , 4)"
      ],
      "execution_count": null,
      "outputs": []
    },
    {
      "cell_type": "code",
      "metadata": {
        "execution": {
          "iopub.status.busy": "2021-11-14T21:08:31.036793Z",
          "iopub.execute_input": "2021-11-14T21:08:31.037635Z",
          "iopub.status.idle": "2021-11-14T21:08:31.077945Z",
          "shell.execute_reply.started": "2021-11-14T21:08:31.037579Z",
          "shell.execute_reply": "2021-11-14T21:08:31.077271Z"
        },
        "trusted": true,
        "id": "UjSVw7_TF3VD"
      },
      "source": [
        "data = next(iter(dataloader))"
      ],
      "execution_count": null,
      "outputs": []
    },
    {
      "cell_type": "code",
      "metadata": {
        "execution": {
          "iopub.status.busy": "2021-11-14T21:08:31.301971Z",
          "iopub.execute_input": "2021-11-14T21:08:31.302422Z",
          "iopub.status.idle": "2021-11-14T21:08:31.322953Z",
          "shell.execute_reply.started": "2021-11-14T21:08:31.302371Z",
          "shell.execute_reply": "2021-11-14T21:08:31.322191Z"
        },
        "trusted": true,
        "id": "lkAx0dV5F3VE"
      },
      "source": [
        "data"
      ],
      "execution_count": null,
      "outputs": []
    },
    {
      "cell_type": "code",
      "metadata": {
        "execution": {
          "iopub.status.busy": "2021-11-14T21:08:31.856857Z",
          "iopub.execute_input": "2021-11-14T21:08:31.857438Z",
          "iopub.status.idle": "2021-11-14T21:08:31.864396Z",
          "shell.execute_reply.started": "2021-11-14T21:08:31.857382Z",
          "shell.execute_reply": "2021-11-14T21:08:31.863513Z"
        },
        "trusted": true,
        "id": "zALjIU3nF3VE"
      },
      "source": [
        "\"\"\"\n",
        "class GBVClassifier(nn.Module):\n",
        "    def __init__(self , n_classes):\n",
        "        super(GBVClassifier,self).__init__()\n",
        "        self.bert = BertModel.from_pretrained(Config.MODEL_NAME , return_dict=False)\n",
        "        self.drop1=  nn.Dropout(p=0.7)\n",
        "        self.drop2=  nn.Dropout(p=0.8)\n",
        "        self.out = nn.Linear(768,n_classes)\n",
        "        \n",
        "\n",
        "    def forward(self , input_ids, attention_mask ,token_type_ids):\n",
        "        \n",
        "        _,sortie = self.bert(input_ids,attention_mask,token_type_ids)\n",
        "\n",
        "        output1 = self.drop1(sortie)\n",
        "        output1 = self.out(output1)\n",
        "        \n",
        "        output2 = self.drop2(sortie)\n",
        "        output2 = self.out(output2)\n",
        "        \n",
        "        output= output1.add(output2)/2\n",
        "     \n",
        "        \n",
        "        return output \n",
        "\"\"\""
      ],
      "execution_count": 1,
      "outputs": []
    },
    {
      "cell_type": "code",
      "metadata": {
        "id": "HlBZjSoFGBnF"
      },
      "source": [
        "class GBVClassifier(nn.Module):\n",
        "    def __init__(self , n_classes):\n",
        "        super(GBVClassifier,self).__init__()\n",
        "        self.bert = BertModel.from_pretrained(Config.MODEL_NAME , return_dict=False)\n",
        "        self.drop=  nn.Dropout(p=0.8)\n",
        "        self.out = nn.Linear(768,n_classes)\n",
        "        \n",
        "\n",
        "    def forward(self , input_ids, attention_mask ,token_type_ids):\n",
        "        \n",
        "        _,pooledout = self.bert(input_ids,attention_mask,token_type_ids)\n",
        "\n",
        "        output = self.drop(pooledout)\n",
        "        output = self.out(output)\n",
        "        \n",
        "        return output "
      ],
      "execution_count": 2,
      "outputs": []
    },
    {
      "cell_type": "code",
      "metadata": {
        "execution": {
          "iopub.status.busy": "2021-11-14T21:08:33.202281Z",
          "iopub.execute_input": "2021-11-14T21:08:33.203028Z",
          "iopub.status.idle": "2021-11-14T21:08:52.603992Z",
          "shell.execute_reply.started": "2021-11-14T21:08:33.20299Z",
          "shell.execute_reply": "2021-11-14T21:08:52.603309Z"
        },
        "trusted": true,
        "id": "555MRCqmF3VG"
      },
      "source": [
        "model = GBVClassifier(len(labels_ord))\n",
        "model.to(device)"
      ],
      "execution_count": null,
      "outputs": []
    },
    {
      "cell_type": "code",
      "metadata": {
        "execution": {
          "iopub.status.busy": "2021-11-14T21:08:56.886613Z",
          "iopub.execute_input": "2021-11-14T21:08:56.887195Z",
          "iopub.status.idle": "2021-11-14T21:08:56.89434Z",
          "shell.execute_reply.started": "2021-11-14T21:08:56.887158Z",
          "shell.execute_reply": "2021-11-14T21:08:56.893369Z"
        },
        "trusted": true,
        "id": "8qOjJd-GF3VG"
      },
      "source": [
        "def loss_fn(outputs, labels):\n",
        "     \n",
        "    return nn.CrossEntropyLoss()(outputs, labels)\n",
        "\n",
        "def yield_optimizer(model):\n",
        "    \"\"\"\n",
        "    Returns optimizer for specific parameters\n",
        "    \"\"\"\n",
        "    param_optimizer = list(model.named_parameters())\n",
        "    no_decay = [\"bias\", \"LayerNorm.bias\", \"LayerNorm.weight\"]\n",
        "\n",
        "    optimizer_parameters = [\n",
        "        {\n",
        "            \"params\": [\n",
        "                p for n, p in param_optimizer if not any(nd in n for nd in no_decay)\n",
        "            ],\n",
        "            \"weight_decay\": 0.001,\n",
        "        },\n",
        "        {\n",
        "            \"params\": [\n",
        "                p for n, p in param_optimizer if any(nd in n for nd in no_decay)\n",
        "            ],\n",
        "            \"weight_decay\": 0.0,\n",
        "        },\n",
        "    ]\n",
        "    return AdamW(optimizer_parameters, lr=Config.LR, eps=Config.EPS) "
      ],
      "execution_count": null,
      "outputs": []
    },
    {
      "cell_type": "code",
      "metadata": {
        "trusted": true,
        "id": "xcTvW72OF3VH"
      },
      "source": [
        ""
      ],
      "execution_count": null,
      "outputs": []
    },
    {
      "cell_type": "code",
      "metadata": {
        "execution": {
          "iopub.status.busy": "2021-11-14T21:08:58.299803Z",
          "iopub.execute_input": "2021-11-14T21:08:58.3004Z",
          "iopub.status.idle": "2021-11-14T21:08:58.310056Z",
          "shell.execute_reply.started": "2021-11-14T21:08:58.300365Z",
          "shell.execute_reply": "2021-11-14T21:08:58.309183Z"
        },
        "trusted": true,
        "id": "vW9kMJcnF3VI"
      },
      "source": [
        "def train_epoch (model , data_loader , loss_fn , optimizer , device , scheduler , n_examples):\n",
        "    model.train()\n",
        "    losses = []\n",
        "    correct_predictions = 0\n",
        "\n",
        "    for step , d in tqdm(enumerate(data_loader) , total=len(data_loader)):\n",
        "        \n",
        "        input_ids =d['ids'].to(device) \n",
        "        token_type_ids = d['token_type'].to(device)\n",
        "        attention_mask = d['mask'].to(device)\n",
        "        targets = d['targets'].to(device)\n",
        "\n",
        "        outputs = model(\n",
        "             input_ids ,\n",
        "            attention_mask ,\n",
        "            token_type_ids)\n",
        "        \n",
        "        _, pred =  torch.max(outputs , dim=1)\n",
        "\n",
        "        loss = loss_fn(outputs , targets)\n",
        "        correct_predictions +=torch.sum(pred ==targets)\n",
        "        losses.append(loss.item())\n",
        "\n",
        "\n",
        "        loss.backward()\n",
        "        optimizer.step()\n",
        "        scheduler.step()\n",
        "        optimizer.zero_grad()\n",
        "        \n",
        "    return correct_predictions.double() / n_examples  , np.mean(losses)"
      ],
      "execution_count": null,
      "outputs": []
    },
    {
      "cell_type": "code",
      "metadata": {
        "execution": {
          "iopub.status.busy": "2021-11-14T21:08:59.287905Z",
          "iopub.execute_input": "2021-11-14T21:08:59.288366Z",
          "iopub.status.idle": "2021-11-14T21:08:59.295643Z",
          "shell.execute_reply.started": "2021-11-14T21:08:59.28833Z",
          "shell.execute_reply": "2021-11-14T21:08:59.294695Z"
        },
        "trusted": true,
        "id": "wUzereNMF3VJ"
      },
      "source": [
        "def eval_model (model , data_loader , loss_fn , device , n_examples):\n",
        "    \n",
        "    model.eval()\n",
        "  \n",
        "    losses = []\n",
        "    correct_predictions = 0\n",
        "\n",
        "    with torch.no_grad() :\n",
        "        \n",
        "        for step , d in tqdm(enumerate(data_loader) , total=len(data_loader)):\n",
        "            \n",
        "            input_ids =d['ids'].to(device)\n",
        "            token_type_ids = d['token_type'].to(device)\n",
        "            attention_mask = d['mask'].to(device)\n",
        "            targets = d['targets'].to(device)\n",
        "        \n",
        "            outputs = model(\n",
        "                   input_ids ,\n",
        "                attention_mask ,\n",
        "                token_type_ids  )\n",
        "\n",
        "            _, pred =  torch.max(outputs , dim=1)\n",
        "            loss = loss_fn(outputs , targets)\n",
        "            correct_predictions +=torch.sum(pred ==targets)\n",
        "            losses.append(loss.item())\n",
        "\n",
        "    return correct_predictions.double() / n_examples  , np.mean(losses)\n"
      ],
      "execution_count": null,
      "outputs": []
    },
    {
      "cell_type": "code",
      "metadata": {
        "execution": {
          "iopub.status.busy": "2021-11-14T21:08:59.977269Z",
          "iopub.execute_input": "2021-11-14T21:08:59.977821Z",
          "iopub.status.idle": "2021-11-14T21:08:59.987122Z",
          "shell.execute_reply.started": "2021-11-14T21:08:59.977784Z",
          "shell.execute_reply": "2021-11-14T21:08:59.986059Z"
        },
        "trusted": true,
        "id": "z2_NXZJhF3VK"
      },
      "source": [
        "def train(model , df , epochs):\n",
        "    \n",
        "    \n",
        "    best_accuracy = 0\n",
        "    some_val =0\n",
        "    \n",
        "    for epoch in range(epochs):\n",
        "\n",
        "        print(f'Epoch {epoch + 1}')\n",
        "\n",
        "        kf = StratifiedKFold(n_splits=4, random_state=seed, shuffle=False)\n",
        "\n",
        "        for step , (train, valid ) in enumerate(kf.split(df , df[\"label\"])) :\n",
        "          \n",
        "            train_data_loader= GBVDataloader(df.iloc[train],Config.TRAIN_BS)\n",
        "            validation_data_loader = GBVDataloader(df.iloc[valid],Config.VALID_BS)\n",
        "\n",
        "            nb_train_steps = int(len(train_data_loader) /Config.TRAIN_BS * epochs)\n",
        "            optimizer = yield_optimizer(model)\n",
        "            scheduler = get_linear_schedule_with_warmup(\n",
        "                                        optimizer,\n",
        "                                        num_warmup_steps=0,\n",
        "                                        num_training_steps=nb_train_steps)\n",
        "\n",
        "            train_acc,train_loss = train_epoch(model,train_data_loader,loss_fn,optimizer,device,scheduler,len(df.iloc[train])) \n",
        "            \n",
        "            print(f\"Train accuracy {train_acc} ,Train Loss {train_loss}\")\n",
        "                \n",
        "            val_acc, val_loss = eval_model(model,validation_data_loader,loss_fn,device,len(df.iloc[valid]))\n",
        "            \n",
        "            print(f\"Validation accuracy {val_acc} , Validation loss {val_loss}\")\n",
        "\n",
        "          \n",
        "            if  val_acc > best_accuracy:\n",
        "\n",
        "                torch.save(model.state_dict(),'best_model.bin')\n",
        "                best_accuracy = val_acc\n",
        "                print(f\"Best accuracy {best_accuracy}\")"
      ],
      "execution_count": null,
      "outputs": []
    },
    {
      "cell_type": "code",
      "metadata": {
        "execution": {
          "iopub.status.busy": "2021-11-14T21:09:00.980854Z",
          "iopub.execute_input": "2021-11-14T21:09:00.981663Z",
          "iopub.status.idle": "2021-11-14T23:02:15.526676Z",
          "shell.execute_reply.started": "2021-11-14T21:09:00.981624Z",
          "shell.execute_reply": "2021-11-14T23:02:15.52461Z"
        },
        "trusted": true,
        "id": "i_cw1d2SF3VK"
      },
      "source": [
        "train(model , df , 4)"
      ],
      "execution_count": null,
      "outputs": []
    },
    {
      "cell_type": "code",
      "metadata": {
        "id": "yBvU1iwuF3VL"
      },
      "source": [
        ""
      ],
      "execution_count": null,
      "outputs": []
    },
    {
      "cell_type": "code",
      "metadata": {
        "execution": {
          "iopub.status.busy": "2021-11-14T23:04:56.764186Z",
          "iopub.execute_input": "2021-11-14T23:04:56.764493Z",
          "iopub.status.idle": "2021-11-14T23:04:56.903024Z",
          "shell.execute_reply.started": "2021-11-14T23:04:56.764461Z",
          "shell.execute_reply": "2021-11-14T23:04:56.902283Z"
        },
        "trusted": true,
        "id": "4Owr3ViRF3VL"
      },
      "source": [
        "test = pd.read_csv(Config.TEST_FILE)\n",
        "test"
      ],
      "execution_count": null,
      "outputs": []
    },
    {
      "cell_type": "code",
      "metadata": {
        "execution": {
          "iopub.status.busy": "2021-11-14T23:05:14.965908Z",
          "iopub.execute_input": "2021-11-14T23:05:14.966383Z",
          "iopub.status.idle": "2021-11-14T23:05:14.97817Z",
          "shell.execute_reply.started": "2021-11-14T23:05:14.966346Z",
          "shell.execute_reply": "2021-11-14T23:05:14.977398Z"
        },
        "trusted": true,
        "id": "ptHPfKEyF3VL"
      },
      "source": [
        "test = test[['tweet']]\n",
        "test"
      ],
      "execution_count": null,
      "outputs": []
    },
    {
      "cell_type": "code",
      "metadata": {
        "execution": {
          "iopub.status.busy": "2021-11-14T11:42:27.230282Z",
          "iopub.execute_input": "2021-11-14T11:42:27.230538Z",
          "iopub.status.idle": "2021-11-14T11:42:30.508291Z",
          "shell.execute_reply.started": "2021-11-14T11:42:27.230511Z",
          "shell.execute_reply": "2021-11-14T11:42:30.507547Z"
        },
        "trusted": true,
        "id": "Ou8coPqwF3VL"
      },
      "source": [
        ""
      ],
      "execution_count": null,
      "outputs": []
    },
    {
      "cell_type": "code",
      "metadata": {
        "execution": {
          "iopub.status.busy": "2021-11-14T23:06:00.408303Z",
          "iopub.execute_input": "2021-11-14T23:06:00.408971Z",
          "iopub.status.idle": "2021-11-14T23:06:03.402562Z",
          "shell.execute_reply.started": "2021-11-14T23:06:00.408921Z",
          "shell.execute_reply": "2021-11-14T23:06:03.401701Z"
        },
        "trusted": true,
        "id": "lnUuD-IFF3VM"
      },
      "source": [
        "model = GBVClassifier(len(labels_ord))\n",
        "model.load_state_dict(torch.load('./best_model.bin'))\n",
        "model = model.to(device)"
      ],
      "execution_count": null,
      "outputs": []
    },
    {
      "cell_type": "code",
      "metadata": {
        "id": "by3QtB3ZF3VM"
      },
      "source": [
        ""
      ],
      "execution_count": null,
      "outputs": []
    },
    {
      "cell_type": "code",
      "metadata": {
        "execution": {
          "iopub.status.busy": "2021-11-14T23:08:31.06998Z",
          "iopub.execute_input": "2021-11-14T23:08:31.070275Z",
          "iopub.status.idle": "2021-11-14T23:08:31.074701Z",
          "shell.execute_reply.started": "2021-11-14T23:08:31.070246Z",
          "shell.execute_reply": "2021-11-14T23:08:31.073985Z"
        },
        "trusted": true,
        "id": "g3sLveIVF3VM"
      },
      "source": [
        "def TweetTestDataloader(df  , batch_size , is_test=True):\n",
        "    dataset = GBVDataset(df[\"tweet\"].values ,None  , is_test)\n",
        "    dataloader = DataLoader(dataset , batch_size , shuffle=False)\n",
        "    return dataloader"
      ],
      "execution_count": null,
      "outputs": []
    },
    {
      "cell_type": "code",
      "metadata": {
        "execution": {
          "iopub.status.busy": "2021-11-14T23:08:36.90026Z",
          "iopub.execute_input": "2021-11-14T23:08:36.900958Z",
          "iopub.status.idle": "2021-11-14T23:08:36.908131Z",
          "shell.execute_reply.started": "2021-11-14T23:08:36.900908Z",
          "shell.execute_reply": "2021-11-14T23:08:36.907219Z"
        },
        "trusted": true,
        "id": "g4O9nBLDF3VM"
      },
      "source": [
        "testdataloader = TweetTestDataloader(test  , 1)"
      ],
      "execution_count": null,
      "outputs": []
    },
    {
      "cell_type": "code",
      "metadata": {
        "execution": {
          "iopub.status.busy": "2021-11-14T23:08:58.716806Z",
          "iopub.execute_input": "2021-11-14T23:08:58.717059Z",
          "iopub.status.idle": "2021-11-14T23:08:58.722959Z",
          "shell.execute_reply.started": "2021-11-14T23:08:58.717031Z",
          "shell.execute_reply": "2021-11-14T23:08:58.720794Z"
        },
        "trusted": true,
        "id": "6ZxLEEMCF3VN"
      },
      "source": [
        "proba= []"
      ],
      "execution_count": null,
      "outputs": []
    },
    {
      "cell_type": "code",
      "metadata": {
        "execution": {
          "iopub.status.busy": "2021-11-14T23:09:26.59388Z",
          "iopub.execute_input": "2021-11-14T23:09:26.594145Z",
          "iopub.status.idle": "2021-11-14T23:09:26.600924Z",
          "shell.execute_reply.started": "2021-11-14T23:09:26.594116Z",
          "shell.execute_reply": "2021-11-14T23:09:26.600075Z"
        },
        "trusted": true,
        "id": "ssjnOWWuF3VN"
      },
      "source": [
        "def get_predictions(model, df_test):\n",
        "    \n",
        "    model = model.eval()\n",
        "  \n",
        "    predictions = []\n",
        "  \n",
        "    data_loader = TweetTestDataloader(df_test  , 1)\n",
        "   \n",
        "    with torch.no_grad():\n",
        "        for d in data_loader:\n",
        "            \n",
        "            input_ids = d[\"ids\"].to(device)\n",
        "            attention_mask = d[\"mask\"].to(device)\n",
        "            token_type_ids = d[\"token_type\"].to(device)\n",
        "            \n",
        "            outputs = model(\n",
        "                            input_ids,\n",
        "                            attention_mask ,\n",
        "                            token_type_ids\n",
        "                              )\n",
        "            proba.append(outputs)\n",
        "            _, preds = torch.max(outputs, dim=1)\n",
        "      \n",
        "   "
      ],
      "execution_count": null,
      "outputs": []
    },
    {
      "cell_type": "code",
      "metadata": {
        "execution": {
          "iopub.status.busy": "2021-11-14T23:09:27.508286Z",
          "iopub.execute_input": "2021-11-14T23:09:27.508861Z",
          "iopub.status.idle": "2021-11-14T23:12:38.165028Z",
          "shell.execute_reply.started": "2021-11-14T23:09:27.508813Z",
          "shell.execute_reply": "2021-11-14T23:12:38.164288Z"
        },
        "trusted": true,
        "id": "NN8lPWXMF3VN"
      },
      "source": [
        "get_predictions(model ,test)"
      ],
      "execution_count": null,
      "outputs": []
    },
    {
      "cell_type": "code",
      "metadata": {
        "execution": {
          "iopub.status.busy": "2021-11-14T23:33:15.556476Z",
          "iopub.execute_input": "2021-11-14T23:33:15.557271Z",
          "iopub.status.idle": "2021-11-14T23:33:15.563Z",
          "shell.execute_reply.started": "2021-11-14T23:33:15.557223Z",
          "shell.execute_reply": "2021-11-14T23:33:15.562272Z"
        },
        "trusted": true,
        "id": "uoC9PeIHF3VO"
      },
      "source": [
        "tab=[]"
      ],
      "execution_count": null,
      "outputs": []
    },
    {
      "cell_type": "code",
      "metadata": {
        "execution": {
          "iopub.status.busy": "2021-11-14T23:33:15.790823Z",
          "iopub.execute_input": "2021-11-14T23:33:15.791331Z",
          "iopub.status.idle": "2021-11-14T23:33:16.180333Z",
          "shell.execute_reply.started": "2021-11-14T23:33:15.791296Z",
          "shell.execute_reply": "2021-11-14T23:33:16.179507Z"
        },
        "trusted": true,
        "id": "bS-P4DwBF3VO"
      },
      "source": [
        "for i in proba:\n",
        "    tab.append(i.flatten().tolist())"
      ],
      "execution_count": null,
      "outputs": []
    },
    {
      "cell_type": "code",
      "metadata": {
        "execution": {
          "iopub.status.busy": "2021-11-14T23:33:16.181975Z",
          "iopub.execute_input": "2021-11-14T23:33:16.182255Z",
          "iopub.status.idle": "2021-11-14T23:33:16.200083Z",
          "shell.execute_reply.started": "2021-11-14T23:33:16.18222Z",
          "shell.execute_reply": "2021-11-14T23:33:16.199403Z"
        },
        "trusted": true,
        "id": "am9XJdbjF3VO"
      },
      "source": [
        "predict_pd = pd.DataFrame(data=tab , columns=labels_ord)"
      ],
      "execution_count": null,
      "outputs": []
    },
    {
      "cell_type": "code",
      "metadata": {
        "execution": {
          "iopub.status.busy": "2021-11-14T23:33:17.070957Z",
          "iopub.execute_input": "2021-11-14T23:33:17.071506Z",
          "iopub.status.idle": "2021-11-14T23:33:17.086496Z",
          "shell.execute_reply.started": "2021-11-14T23:33:17.071473Z",
          "shell.execute_reply": "2021-11-14T23:33:17.085775Z"
        },
        "trusted": true,
        "id": "LJ80YkcRF3VP"
      },
      "source": [
        " predict_pd"
      ],
      "execution_count": null,
      "outputs": []
    },
    {
      "cell_type": "code",
      "metadata": {
        "execution": {
          "iopub.status.busy": "2021-11-14T23:33:27.241334Z",
          "iopub.execute_input": "2021-11-14T23:33:27.241899Z",
          "iopub.status.idle": "2021-11-14T23:33:27.2498Z",
          "shell.execute_reply.started": "2021-11-14T23:33:27.241863Z",
          "shell.execute_reply": "2021-11-14T23:33:27.248787Z"
        },
        "trusted": true,
        "id": "uGgNANKAF3VP"
      },
      "source": [
        "#predict_pd[\"economic_violence\"] = predict_pd[\"economic_violence\"]*3.999 \n",
        "#predict_pd[\"emotional_violence\"] = predict_pd[\"emotional_violence\"]*3.999 \n",
        "#predict_pd[\"Harmful_Traditional_practice\"] = predict_pd[\"Harmful_Traditional_practice\"]*3.75 "
      ],
      "execution_count": null,
      "outputs": []
    },
    {
      "cell_type": "code",
      "metadata": {
        "execution": {
          "iopub.status.busy": "2021-11-14T23:35:56.290814Z",
          "iopub.execute_input": "2021-11-14T23:35:56.291434Z",
          "iopub.status.idle": "2021-11-14T23:35:56.297009Z",
          "shell.execute_reply.started": "2021-11-14T23:35:56.291378Z",
          "shell.execute_reply": "2021-11-14T23:35:56.296253Z"
        },
        "trusted": true,
        "id": "2Rwo6NDPF3VR"
      },
      "source": [
        "#predict_pd[\"economic_violence\"] = predict_pd[\"economic_violence\"]*0.999 \n",
        "predict_pd[\"sexual_violence\"] = predict_pd[\"sexual_violence\"]*2.35\n",
        "#predict_pd[\"Harmful_Traditional_practice\"] = predict_pd[\"Harmful_Traditional_practice\"]*0.998  "
      ],
      "execution_count": null,
      "outputs": []
    },
    {
      "cell_type": "code",
      "metadata": {
        "execution": {
          "iopub.status.busy": "2021-11-14T23:36:01.266Z",
          "iopub.execute_input": "2021-11-14T23:36:01.266691Z",
          "iopub.status.idle": "2021-11-14T23:36:01.271751Z",
          "shell.execute_reply.started": "2021-11-14T23:36:01.266653Z",
          "shell.execute_reply": "2021-11-14T23:36:01.270959Z"
        },
        "trusted": true,
        "id": "4Jz1cePgF3VR"
      },
      "source": [
        "#predict_pd[\"economic_violence\"] = predict_pd[\"economic_violence\"]*0.20\n",
        "predict_pd[\"Physical_violence\"] = predict_pd[\"Physical_violence\"]*2.75\n",
        "#predict_pd[\"Harmful_Traditional_practice\"] = predict_pd[\"Harmful_Traditional_practice\"]*0.998 "
      ],
      "execution_count": null,
      "outputs": []
    },
    {
      "cell_type": "code",
      "metadata": {
        "id": "DhHFxUlnF3VS"
      },
      "source": [
        ""
      ],
      "execution_count": null,
      "outputs": []
    },
    {
      "cell_type": "code",
      "metadata": {
        "execution": {
          "iopub.status.busy": "2021-11-14T23:36:05.96259Z",
          "iopub.execute_input": "2021-11-14T23:36:05.963394Z",
          "iopub.status.idle": "2021-11-14T23:36:06.0089Z",
          "shell.execute_reply.started": "2021-11-14T23:36:05.96335Z",
          "shell.execute_reply": "2021-11-14T23:36:06.008187Z"
        },
        "trusted": true,
        "id": "CjPAYNFVF3VS"
      },
      "source": [
        "get_prediction = predict_pd.idxmax(axis=1)"
      ],
      "execution_count": null,
      "outputs": []
    },
    {
      "cell_type": "code",
      "metadata": {
        "execution": {
          "iopub.status.busy": "2021-11-14T23:36:06.204309Z",
          "iopub.execute_input": "2021-11-14T23:36:06.204855Z",
          "iopub.status.idle": "2021-11-14T23:36:06.208225Z",
          "shell.execute_reply.started": "2021-11-14T23:36:06.204818Z",
          "shell.execute_reply": "2021-11-14T23:36:06.207297Z"
        },
        "trusted": true,
        "id": "rtDAbfrjF3VT"
      },
      "source": [
        "#myprediction=[]"
      ],
      "execution_count": null,
      "outputs": []
    },
    {
      "cell_type": "code",
      "metadata": {
        "id": "oRJe1TABF3VT"
      },
      "source": [
        ""
      ],
      "execution_count": null,
      "outputs": []
    },
    {
      "cell_type": "code",
      "metadata": {
        "execution": {
          "iopub.status.busy": "2021-11-14T23:36:06.556616Z",
          "iopub.execute_input": "2021-11-14T23:36:06.557442Z",
          "iopub.status.idle": "2021-11-14T23:36:06.56132Z",
          "shell.execute_reply.started": "2021-11-14T23:36:06.55738Z",
          "shell.execute_reply": "2021-11-14T23:36:06.56028Z"
        },
        "trusted": true,
        "id": "3odGihOXF3VU"
      },
      "source": [
        "#for i in sortie:\n",
        " #   myprediction.append(labels_ord[i.item()])"
      ],
      "execution_count": null,
      "outputs": []
    },
    {
      "cell_type": "code",
      "metadata": {
        "execution": {
          "iopub.status.busy": "2021-11-14T23:36:06.950495Z",
          "iopub.execute_input": "2021-11-14T23:36:06.951208Z",
          "iopub.status.idle": "2021-11-14T23:36:06.966918Z",
          "shell.execute_reply.started": "2021-11-14T23:36:06.951154Z",
          "shell.execute_reply": "2021-11-14T23:36:06.966105Z"
        },
        "trusted": true,
        "id": "mPmYYp8qF3VU"
      },
      "source": [
        "sub = pd.read_csv(\"../input/genderbasedviolence/SampleSubmission.csv\")"
      ],
      "execution_count": null,
      "outputs": []
    },
    {
      "cell_type": "code",
      "metadata": {
        "execution": {
          "iopub.status.busy": "2021-11-14T23:36:07.487107Z",
          "iopub.execute_input": "2021-11-14T23:36:07.487364Z",
          "iopub.status.idle": "2021-11-14T23:36:07.497951Z",
          "shell.execute_reply.started": "2021-11-14T23:36:07.487334Z",
          "shell.execute_reply": "2021-11-14T23:36:07.497052Z"
        },
        "trusted": true,
        "id": "gJmY9vr7F3VU"
      },
      "source": [
        "sub.head()"
      ],
      "execution_count": null,
      "outputs": []
    },
    {
      "cell_type": "code",
      "metadata": {
        "execution": {
          "iopub.status.busy": "2021-11-14T23:36:08.086905Z",
          "iopub.execute_input": "2021-11-14T23:36:08.087613Z",
          "iopub.status.idle": "2021-11-14T23:36:08.093806Z",
          "shell.execute_reply.started": "2021-11-14T23:36:08.08756Z",
          "shell.execute_reply": "2021-11-14T23:36:08.093008Z"
        },
        "trusted": true,
        "id": "BNTqe_EdF3VV"
      },
      "source": [
        "sub[\"type\"]= get_prediction"
      ],
      "execution_count": null,
      "outputs": []
    },
    {
      "cell_type": "code",
      "metadata": {
        "execution": {
          "iopub.status.busy": "2021-11-14T23:36:09.210155Z",
          "iopub.execute_input": "2021-11-14T23:36:09.210727Z",
          "iopub.status.idle": "2021-11-14T23:36:09.223751Z",
          "shell.execute_reply.started": "2021-11-14T23:36:09.210692Z",
          "shell.execute_reply": "2021-11-14T23:36:09.223015Z"
        },
        "trusted": true,
        "id": "qxm2O99CF3VV"
      },
      "source": [
        "sub"
      ],
      "execution_count": null,
      "outputs": []
    },
    {
      "cell_type": "code",
      "metadata": {
        "execution": {
          "iopub.status.busy": "2021-11-14T23:36:16.379626Z",
          "iopub.execute_input": "2021-11-14T23:36:16.379901Z",
          "iopub.status.idle": "2021-11-14T23:36:16.426335Z",
          "shell.execute_reply.started": "2021-11-14T23:36:16.379873Z",
          "shell.execute_reply": "2021-11-14T23:36:16.425624Z"
        },
        "trusted": true,
        "id": "LnmkYTFsF3VV"
      },
      "source": [
        "sub.to_csv(\"MA-FAAA10.csv\",index=False)"
      ],
      "execution_count": null,
      "outputs": []
    },
    {
      "cell_type": "code",
      "metadata": {
        "id": "dNmOHQgSF3VW"
      },
      "source": [
        ""
      ],
      "execution_count": null,
      "outputs": []
    }
  ]
}